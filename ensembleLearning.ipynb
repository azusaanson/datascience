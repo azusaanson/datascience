{
  "nbformat": 4,
  "nbformat_minor": 0,
  "metadata": {
    "colab": {
      "provenance": []
    },
    "kernelspec": {
      "name": "python3",
      "display_name": "Python 3"
    },
    "language_info": {
      "name": "python"
    }
  },
  "cells": [
    {
      "cell_type": "markdown",
      "source": [
        "\n",
        "アンサンブル学習"
      ],
      "metadata": {
        "id": "RE7dLX0dUYYw"
      }
    },
    {
      "cell_type": "code",
      "execution_count": 1,
      "metadata": {
        "id": "7kf_Qb6HSnUx",
        "colab": {
          "base_uri": "https://localhost:8080/"
        },
        "outputId": "3ec66f96-a924-4249-ba58-c67de4f3eb75"
      },
      "outputs": [
        {
          "output_type": "stream",
          "name": "stdout",
          "text": [
            "Mounted at /content/drive\n"
          ]
        }
      ],
      "source": [
        "import numpy as np \n",
        "import pandas as pd\n",
        "from sklearn.model_selection import train_test_split\n",
        "from sklearn.tree import DecisionTreeClassifier \n",
        "from sklearn.ensemble import RandomForestClassifier\n",
        "from sklearn.ensemble import AdaBoostClassifier\n",
        "from sklearn.metrics import accuracy_score,classification_report\n",
        "from sklearn.metrics import precision_score, recall_score\n",
        "from sklearn.metrics import f1_score\n",
        "\n",
        "# mount data\n",
        "from google.colab import drive\n",
        "drive.mount('/content/drive')"
      ]
    },
    {
      "cell_type": "code",
      "source": [
        "# prepare data\n",
        "restaurantData = pd.read_csv(\"/content/drive/MyDrive/data/restaurant.csv\", encoding=\"UTF-8\")\n",
        "\n",
        "# check data\n",
        "restaurantData.head(3)"
      ],
      "metadata": {
        "colab": {
          "base_uri": "https://localhost:8080/",
          "height": 143
        },
        "id": "HBB0NFwrtMgH",
        "outputId": "421c5282-9288-461c-ef72-e660977b0608"
      },
      "execution_count": 17,
      "outputs": [
        {
          "output_type": "execute_result",
          "data": {
            "text/plain": [
              "       店名  ランチ価格(円)    料理区分  カロリー  味濃い  見た目  ゆっくり座れる  好き\n",
              "0    ごんべえ       600     うどん   430    3    3        3   0\n",
              "1  subway       450  サンドイッチ   350    1    3        2   1\n",
              "2   天丼てんや       550     天麩羅   640    3    2        2   0"
            ],
            "text/html": [
              "\n",
              "  <div id=\"df-b5a78ebf-cf5a-48e9-8500-4ae1159caacf\">\n",
              "    <div class=\"colab-df-container\">\n",
              "      <div>\n",
              "<style scoped>\n",
              "    .dataframe tbody tr th:only-of-type {\n",
              "        vertical-align: middle;\n",
              "    }\n",
              "\n",
              "    .dataframe tbody tr th {\n",
              "        vertical-align: top;\n",
              "    }\n",
              "\n",
              "    .dataframe thead th {\n",
              "        text-align: right;\n",
              "    }\n",
              "</style>\n",
              "<table border=\"1\" class=\"dataframe\">\n",
              "  <thead>\n",
              "    <tr style=\"text-align: right;\">\n",
              "      <th></th>\n",
              "      <th>店名</th>\n",
              "      <th>ランチ価格(円)</th>\n",
              "      <th>料理区分</th>\n",
              "      <th>カロリー</th>\n",
              "      <th>味濃い</th>\n",
              "      <th>見た目</th>\n",
              "      <th>ゆっくり座れる</th>\n",
              "      <th>好き</th>\n",
              "    </tr>\n",
              "  </thead>\n",
              "  <tbody>\n",
              "    <tr>\n",
              "      <th>0</th>\n",
              "      <td>ごんべえ</td>\n",
              "      <td>600</td>\n",
              "      <td>うどん</td>\n",
              "      <td>430</td>\n",
              "      <td>3</td>\n",
              "      <td>3</td>\n",
              "      <td>3</td>\n",
              "      <td>0</td>\n",
              "    </tr>\n",
              "    <tr>\n",
              "      <th>1</th>\n",
              "      <td>subway</td>\n",
              "      <td>450</td>\n",
              "      <td>サンドイッチ</td>\n",
              "      <td>350</td>\n",
              "      <td>1</td>\n",
              "      <td>3</td>\n",
              "      <td>2</td>\n",
              "      <td>1</td>\n",
              "    </tr>\n",
              "    <tr>\n",
              "      <th>2</th>\n",
              "      <td>天丼てんや</td>\n",
              "      <td>550</td>\n",
              "      <td>天麩羅</td>\n",
              "      <td>640</td>\n",
              "      <td>3</td>\n",
              "      <td>2</td>\n",
              "      <td>2</td>\n",
              "      <td>0</td>\n",
              "    </tr>\n",
              "  </tbody>\n",
              "</table>\n",
              "</div>\n",
              "      <button class=\"colab-df-convert\" onclick=\"convertToInteractive('df-b5a78ebf-cf5a-48e9-8500-4ae1159caacf')\"\n",
              "              title=\"Convert this dataframe to an interactive table.\"\n",
              "              style=\"display:none;\">\n",
              "        \n",
              "  <svg xmlns=\"http://www.w3.org/2000/svg\" height=\"24px\"viewBox=\"0 0 24 24\"\n",
              "       width=\"24px\">\n",
              "    <path d=\"M0 0h24v24H0V0z\" fill=\"none\"/>\n",
              "    <path d=\"M18.56 5.44l.94 2.06.94-2.06 2.06-.94-2.06-.94-.94-2.06-.94 2.06-2.06.94zm-11 1L8.5 8.5l.94-2.06 2.06-.94-2.06-.94L8.5 2.5l-.94 2.06-2.06.94zm10 10l.94 2.06.94-2.06 2.06-.94-2.06-.94-.94-2.06-.94 2.06-2.06.94z\"/><path d=\"M17.41 7.96l-1.37-1.37c-.4-.4-.92-.59-1.43-.59-.52 0-1.04.2-1.43.59L10.3 9.45l-7.72 7.72c-.78.78-.78 2.05 0 2.83L4 21.41c.39.39.9.59 1.41.59.51 0 1.02-.2 1.41-.59l7.78-7.78 2.81-2.81c.8-.78.8-2.07 0-2.86zM5.41 20L4 18.59l7.72-7.72 1.47 1.35L5.41 20z\"/>\n",
              "  </svg>\n",
              "      </button>\n",
              "      \n",
              "  <style>\n",
              "    .colab-df-container {\n",
              "      display:flex;\n",
              "      flex-wrap:wrap;\n",
              "      gap: 12px;\n",
              "    }\n",
              "\n",
              "    .colab-df-convert {\n",
              "      background-color: #E8F0FE;\n",
              "      border: none;\n",
              "      border-radius: 50%;\n",
              "      cursor: pointer;\n",
              "      display: none;\n",
              "      fill: #1967D2;\n",
              "      height: 32px;\n",
              "      padding: 0 0 0 0;\n",
              "      width: 32px;\n",
              "    }\n",
              "\n",
              "    .colab-df-convert:hover {\n",
              "      background-color: #E2EBFA;\n",
              "      box-shadow: 0px 1px 2px rgba(60, 64, 67, 0.3), 0px 1px 3px 1px rgba(60, 64, 67, 0.15);\n",
              "      fill: #174EA6;\n",
              "    }\n",
              "\n",
              "    [theme=dark] .colab-df-convert {\n",
              "      background-color: #3B4455;\n",
              "      fill: #D2E3FC;\n",
              "    }\n",
              "\n",
              "    [theme=dark] .colab-df-convert:hover {\n",
              "      background-color: #434B5C;\n",
              "      box-shadow: 0px 1px 3px 1px rgba(0, 0, 0, 0.15);\n",
              "      filter: drop-shadow(0px 1px 2px rgba(0, 0, 0, 0.3));\n",
              "      fill: #FFFFFF;\n",
              "    }\n",
              "  </style>\n",
              "\n",
              "      <script>\n",
              "        const buttonEl =\n",
              "          document.querySelector('#df-b5a78ebf-cf5a-48e9-8500-4ae1159caacf button.colab-df-convert');\n",
              "        buttonEl.style.display =\n",
              "          google.colab.kernel.accessAllowed ? 'block' : 'none';\n",
              "\n",
              "        async function convertToInteractive(key) {\n",
              "          const element = document.querySelector('#df-b5a78ebf-cf5a-48e9-8500-4ae1159caacf');\n",
              "          const dataTable =\n",
              "            await google.colab.kernel.invokeFunction('convertToInteractive',\n",
              "                                                     [key], {});\n",
              "          if (!dataTable) return;\n",
              "\n",
              "          const docLinkHtml = 'Like what you see? Visit the ' +\n",
              "            '<a target=\"_blank\" href=https://colab.research.google.com/notebooks/data_table.ipynb>data table notebook</a>'\n",
              "            + ' to learn more about interactive tables.';\n",
              "          element.innerHTML = '';\n",
              "          dataTable['output_type'] = 'display_data';\n",
              "          await google.colab.output.renderOutput(dataTable, element);\n",
              "          const docLink = document.createElement('div');\n",
              "          docLink.innerHTML = docLinkHtml;\n",
              "          element.appendChild(docLink);\n",
              "        }\n",
              "      </script>\n",
              "    </div>\n",
              "  </div>\n",
              "  "
            ]
          },
          "metadata": {},
          "execution_count": 17
        }
      ]
    },
    {
      "cell_type": "code",
      "source": [
        "# get x and y\n",
        "x1 = restaurantData[['ランチ価格(円)', 'カロリー', '味濃い', '見た目', 'ゆっくり座れる']]\n",
        "x2 = restaurantData[['料理区分']]\n",
        "x2 = pd.get_dummies(x2, drop_first=True)\n",
        "x = pd.concat([x1, x2],axis=1)\n",
        "\n",
        "y = restaurantData[['好き']]\n",
        "\n",
        "# split train and test data\n",
        "xTrain, xTest, yTrain, yTest = train_test_split(x, y,stratify=y,random_state=0,test_size=0.2)\n",
        "\n",
        "# check data\n",
        "print(xTrain.head())\n",
        "print(yTrain.head())"
      ],
      "metadata": {
        "colab": {
          "base_uri": "https://localhost:8080/"
        },
        "id": "aQiz_2FOiGCG",
        "outputId": "09c33887-b9e8-4ce7-b361-68f69985bff3"
      },
      "execution_count": 19,
      "outputs": [
        {
          "output_type": "stream",
          "name": "stdout",
          "text": [
            "    ランチ価格(円)  カロリー  味濃い  見た目  ゆっくり座れる  料理区分_とんかつ  料理区分_まぜそば  料理区分_カレー  \\\n",
            "18       700   430    2    4        3          0          0         0   \n",
            "22      1600   900    3    5        3          0          0         0   \n",
            "10       850   600    4    3        1          0          0         0   \n",
            "3        850   900    5    1        5          0          0         0   \n",
            "9        700   600    4    4        1          0          0         0   \n",
            "\n",
            "    料理区分_サンドイッチ  料理区分_タイ  料理区分_ラーメン  料理区分_中国  料理区分_天麩羅  料理区分_定食  料理区分_油そば  \\\n",
            "18            0        0          0        0         0        0         0   \n",
            "22            0        0          0        0         0        0         0   \n",
            "10            0        0          0        0         0        0         1   \n",
            "3             0        0          0        1         0        0         0   \n",
            "9             0        0          0        0         0        0         1   \n",
            "\n",
            "    料理区分_肉  \n",
            "18       0  \n",
            "22       1  \n",
            "10       0  \n",
            "3        0  \n",
            "9        0  \n",
            "    好き\n",
            "18   1\n",
            "22   1\n",
            "10   0\n",
            "3    0\n",
            "9    1\n"
          ]
        }
      ]
    },
    {
      "cell_type": "markdown",
      "source": [
        "決定木による分析"
      ],
      "metadata": {
        "id": "67NZw489MG5N"
      }
    },
    {
      "cell_type": "code",
      "source": [
        "# define model (decision tree)\n",
        "treeModel = DecisionTreeClassifier(random_state=0,max_depth=4)\n",
        "\n",
        "# fit model\n",
        "treeModel.fit(xTrain, yTrain)\n",
        "\n",
        "# predict\n",
        "yTreePred = treeModel.predict(xTest)\n",
        "\n",
        "# print result\n",
        "print('正解率:', accuracy_score(yTest, yTreePred))\n",
        "print('適合率:', precision_score(yTest, yTreePred))\n",
        "print('再現率:', recall_score(yTest, yTreePred))\n",
        "print('f1 Score:', f1_score(yTest, yTreePred))"
      ],
      "metadata": {
        "id": "E9NqYbn9ii28",
        "colab": {
          "base_uri": "https://localhost:8080/"
        },
        "outputId": "9cf7a8ff-e9d7-4e66-cd62-8d138b00cd60"
      },
      "execution_count": 20,
      "outputs": [
        {
          "output_type": "stream",
          "name": "stdout",
          "text": [
            "正解率: 0.8333333333333334\n",
            "適合率: 1.0\n",
            "再現率: 0.6666666666666666\n",
            "f1 Score: 0.8\n"
          ]
        }
      ]
    },
    {
      "cell_type": "markdown",
      "source": [
        "ランダムフォレストによる分析"
      ],
      "metadata": {
        "id": "Fq4BhsUbEDmv"
      }
    },
    {
      "cell_type": "code",
      "source": [
        "rfModel = RandomForestClassifier(n_estimators=2, max_depth=4, criterion='gini', random_state=90)\n",
        "\n",
        "rfModel.fit(xTrain, yTrain.values.ravel())\n",
        "\n",
        "yRfPred = rfModel.predict(xTest)\n",
        "\n",
        "print('正解率:',accuracy_score(yTest, yRfPred))\n",
        "print('適合率:',precision_score(yTest, yRfPred))\n",
        "print('再現率:',recall_score(yTest, yRfPred))\n",
        "print('f1:',f1_score(yTest, yRfPred))"
      ],
      "metadata": {
        "colab": {
          "base_uri": "https://localhost:8080/"
        },
        "id": "y8Kw2b8csf7F",
        "outputId": "4842fd08-35b1-4455-fae6-ee80ab3a65df"
      },
      "execution_count": 21,
      "outputs": [
        {
          "output_type": "stream",
          "name": "stdout",
          "text": [
            "正解率: 0.6666666666666666\n",
            "適合率: 1.0\n",
            "再現率: 0.3333333333333333\n",
            "f1: 0.5\n"
          ]
        }
      ]
    },
    {
      "cell_type": "markdown",
      "source": [
        "ブースティング Adaboost"
      ],
      "metadata": {
        "id": "ed9CaY3fRXdr"
      }
    },
    {
      "cell_type": "code",
      "source": [
        "adaModel = AdaBoostClassifier(learning_rate=0.6, random_state=0)\n",
        "    \n",
        "adaModel.fit(xTrain, yTrain.values.ravel())\n",
        "    \n",
        "yAdaPred = adaModel.predict(xTest)\n",
        "\n",
        "print('正解率:',accuracy_score(yTest, yAdaPred))\n",
        "print('適合率:',precision_score(yTest, yAdaPred))\n",
        "print('再現率:',recall_score(yTest, yAdaPred))\n",
        "print('f1:',f1_score(yTest, yAdaPred))"
      ],
      "metadata": {
        "colab": {
          "base_uri": "https://localhost:8080/"
        },
        "id": "fVSkZCofGb1l",
        "outputId": "bcdfa054-214f-41cc-bef2-2e7ea3fd13bb"
      },
      "execution_count": 22,
      "outputs": [
        {
          "output_type": "stream",
          "name": "stdout",
          "text": [
            "正解率: 0.5\n",
            "適合率: 0.5\n",
            "再現率: 1.0\n",
            "f1: 0.6666666666666666\n"
          ]
        }
      ]
    }
  ]
}