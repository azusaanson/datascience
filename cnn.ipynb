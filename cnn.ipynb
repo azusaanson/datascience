{
  "nbformat": 4,
  "nbformat_minor": 0,
  "metadata": {
    "colab": {
      "provenance": []
    },
    "kernelspec": {
      "name": "python3",
      "display_name": "Python 3"
    },
    "language_info": {
      "name": "python"
    },
    "accelerator": "GPU"
  },
  "cells": [
    {
      "cell_type": "code",
      "execution_count": 10,
      "metadata": {
        "id": "ngg2g6X-NkIh"
      },
      "outputs": [],
      "source": [
        "import os\n",
        "import pandas as pd\n",
        "import numpy as np\n",
        "import torch.nn as nn\n",
        "from torchvision.transforms import Resize, Grayscale\n",
        "from torchvision.io import read_image\n",
        "import torch\n",
        "from torch.utils.data import TensorDataset, DataLoader\n",
        "from torchvision import datasets, transforms"
      ]
    },
    {
      "cell_type": "code",
      "source": [
        "device = torch.device('cuda:0' if torch.cuda.is_available() else 'cpu')"
      ],
      "metadata": {
        "id": "2bi_KhaHNv90"
      },
      "execution_count": 2,
      "outputs": []
    },
    {
      "cell_type": "markdown",
      "source": [
        "Get and handle MNIST Data"
      ],
      "metadata": {
        "id": "kMejOjsJPjqF"
      }
    },
    {
      "cell_type": "code",
      "source": [
        "batchSize = 64\n",
        "\n",
        "trainDataset = datasets.MNIST('/content', train=True, download=True, transform=transforms.Compose([\n",
        "                                                              transforms.ToTensor(), # convert image to PyTorch tensor\n",
        "                                                              transforms.Normalize((0.1307,), (0.3081,)) # normalize inputs, mean=0.1307 and standard deviation=0.3081 are precomputed statistics of the entire dataset\n",
        "                                                          ])) # size = 28X28\n",
        "trainData = list(trainDataset)[:5000]\n",
        "trainDataLoader = DataLoader(trainData, batch_size=batchSize, shuffle=True)\n",
        "\n",
        "valDataset = datasets.MNIST('/content', train=False, download=True, transform=transforms.Compose([\n",
        "                                                              transforms.ToTensor(),\n",
        "                                                              transforms.Normalize((0.1307,), (0.3081,))\n",
        "                                                          ]))\n",
        "valData = list(valDataset)[:2500]\n",
        "valDataLoader = DataLoader(valData, batch_size=batchSize, shuffle=False)"
      ],
      "metadata": {
        "colab": {
          "base_uri": "https://localhost:8080/"
        },
        "id": "Q4GNQ8kcuxlp",
        "outputId": "338fb419-6183-4302-9ee7-4c64b00297a1"
      },
      "execution_count": 3,
      "outputs": [
        {
          "output_type": "stream",
          "name": "stdout",
          "text": [
            "Downloading http://yann.lecun.com/exdb/mnist/train-images-idx3-ubyte.gz\n",
            "Downloading http://yann.lecun.com/exdb/mnist/train-images-idx3-ubyte.gz to /content/MNIST/raw/train-images-idx3-ubyte.gz\n"
          ]
        },
        {
          "output_type": "stream",
          "name": "stderr",
          "text": [
            "100%|██████████| 9912422/9912422 [00:00<00:00, 304109420.79it/s]"
          ]
        },
        {
          "output_type": "stream",
          "name": "stdout",
          "text": [
            "Extracting /content/MNIST/raw/train-images-idx3-ubyte.gz to /content/MNIST/raw\n"
          ]
        },
        {
          "output_type": "stream",
          "name": "stderr",
          "text": [
            "\n"
          ]
        },
        {
          "output_type": "stream",
          "name": "stdout",
          "text": [
            "\n",
            "Downloading http://yann.lecun.com/exdb/mnist/train-labels-idx1-ubyte.gz\n",
            "Downloading http://yann.lecun.com/exdb/mnist/train-labels-idx1-ubyte.gz to /content/MNIST/raw/train-labels-idx1-ubyte.gz\n"
          ]
        },
        {
          "output_type": "stream",
          "name": "stderr",
          "text": [
            "100%|██████████| 28881/28881 [00:00<00:00, 38912847.36it/s]\n"
          ]
        },
        {
          "output_type": "stream",
          "name": "stdout",
          "text": [
            "Extracting /content/MNIST/raw/train-labels-idx1-ubyte.gz to /content/MNIST/raw\n",
            "\n",
            "Downloading http://yann.lecun.com/exdb/mnist/t10k-images-idx3-ubyte.gz\n",
            "Downloading http://yann.lecun.com/exdb/mnist/t10k-images-idx3-ubyte.gz to /content/MNIST/raw/t10k-images-idx3-ubyte.gz\n"
          ]
        },
        {
          "output_type": "stream",
          "name": "stderr",
          "text": [
            "100%|██████████| 1648877/1648877 [00:00<00:00, 122182417.83it/s]"
          ]
        },
        {
          "output_type": "stream",
          "name": "stdout",
          "text": [
            "Extracting /content/MNIST/raw/t10k-images-idx3-ubyte.gz to /content/MNIST/raw\n",
            "\n",
            "Downloading http://yann.lecun.com/exdb/mnist/t10k-labels-idx1-ubyte.gz\n"
          ]
        },
        {
          "output_type": "stream",
          "name": "stderr",
          "text": [
            "\n"
          ]
        },
        {
          "output_type": "stream",
          "name": "stdout",
          "text": [
            "Downloading http://yann.lecun.com/exdb/mnist/t10k-labels-idx1-ubyte.gz to /content/MNIST/raw/t10k-labels-idx1-ubyte.gz\n"
          ]
        },
        {
          "output_type": "stream",
          "name": "stderr",
          "text": [
            "100%|██████████| 4542/4542 [00:00<00:00, 18477719.46it/s]"
          ]
        },
        {
          "output_type": "stream",
          "name": "stdout",
          "text": [
            "Extracting /content/MNIST/raw/t10k-labels-idx1-ubyte.gz to /content/MNIST/raw\n",
            "\n"
          ]
        },
        {
          "output_type": "stream",
          "name": "stderr",
          "text": [
            "\n"
          ]
        }
      ]
    },
    {
      "cell_type": "markdown",
      "source": [
        "Define Layers"
      ],
      "metadata": {
        "id": "k6Um21_zPo4-"
      }
    },
    {
      "cell_type": "code",
      "source": [
        "class Net(nn.Module):\n",
        "    def __init__(self):\n",
        "        super().__init__()\n",
        "        self.conv1 = nn.Conv2d(1, 32, 3) # convolution layer1, inputNum = 1 because monochrome\n",
        "        self.conv2 = nn.Conv2d(32, 64, 3) # convolution layer2\n",
        "        self.max_pool = nn.MaxPool2d(kernel_size=2, stride=2) # pooling layer\n",
        "\n",
        "        self.dropout1 = nn.Dropout(0.25)\n",
        "        self.dropout2 = nn.Dropout(0.5)\n",
        "        self.flatten = nn.Flatten()\n",
        "\n",
        "        # fully connected layer\n",
        "        # input = 9216 = sizeOfLastLayerMatrix * LastLayerChannelNum = 12*12*64, \n",
        "        # sizeOfLastLayerMatrix(of one side) = floor(((((sizeOfImg - layer1KernelSize + 1) - layer2KernelSize + 1) - maxPoolKernelSize) / maxPoolStride) + 1)\n",
        "        # = floor(((((28-3+1)-3+1)-2)/2)+1)=12\n",
        "        self.fc1 = nn.Linear(9216, 128)\n",
        "        self.fc2 = nn.Linear(128, 10) # output fully connected layer, outputNum = 10 because predict 0~9\n",
        "\n",
        "\n",
        "    def forward(self, x):\n",
        "        x = torch.relu(self.conv1(x))\n",
        "        x = self.max_pool(torch.relu(self.conv2(x)))\n",
        "        x = self.dropout1(x)\n",
        "        x = self.flatten(x)\n",
        "        x = torch.relu(self.fc1(x))\n",
        "        x = self.dropout2(x)\n",
        "        x = torch.sigmoid(self.fc2(x))\n",
        "        return x"
      ],
      "metadata": {
        "id": "Wa-Ku_tIPYy-"
      },
      "execution_count": 4,
      "outputs": []
    },
    {
      "cell_type": "markdown",
      "source": [
        "Define LossFunc and Optimizer"
      ],
      "metadata": {
        "id": "d3-H9ztdPw8H"
      }
    },
    {
      "cell_type": "code",
      "source": [
        "model = Net().to(device)\n",
        "\n",
        "learningRate = 1e-3\n",
        "lossFn = nn.CrossEntropyLoss()\n",
        "optimizer = torch.optim.Adam(model.parameters(), lr=learningRate)"
      ],
      "metadata": {
        "id": "M4t9hHZIt1e3"
      },
      "execution_count": 5,
      "outputs": []
    },
    {
      "cell_type": "markdown",
      "source": [
        "Start Learning and cal ACC by Val Data"
      ],
      "metadata": {
        "id": "kuCQIngLP4no"
      }
    },
    {
      "cell_type": "code",
      "source": [
        "valLosses = []\n",
        "epochesN = 30\n",
        "for epoch in range(epochesN):\n",
        "    acc = 0\n",
        "    allValNum = 0\n",
        "    for xTrainBatch, zTrainBatch in trainDataLoader:\n",
        "        xTrainBatch = xTrainBatch.to(device)\n",
        "        zTrainBatch = zTrainBatch.to(device)\n",
        "        outputs = model(xTrainBatch)\n",
        "\n",
        "        loss = lossFn(outputs, zTrainBatch)\n",
        "        optimizer.zero_grad()\n",
        "        loss.backward()\n",
        "        optimizer.step()\n",
        "\n",
        "    with torch.no_grad():\n",
        "        for xValBatch, zValBatch in valDataLoader:\n",
        "            xValBatch = xValBatch.to(device)\n",
        "            zValBatch = zValBatch.to(device)\n",
        "\n",
        "            outputs = model(xValBatch)\n",
        "            valLossBatch = lossFn(outputs, zValBatch)\n",
        "            valLosses.append(valLossBatch.cpu().item())\n",
        "\n",
        "            acc += (torch.argmax(outputs,dim=1) == zValBatch).cpu().sum().item() # cal acc\n",
        "            allValNum += zValBatch.size()[0]\n",
        "    print(f'epoch:{epoch+1}')\n",
        "    print(f'val acc is {(acc/allValNum)*100}%')"
      ],
      "metadata": {
        "id": "4a49kyazPave",
        "colab": {
          "base_uri": "https://localhost:8080/"
        },
        "outputId": "c2128ec3-7dcb-49dc-b665-e3cd612e38d5"
      },
      "execution_count": 6,
      "outputs": [
        {
          "output_type": "stream",
          "name": "stdout",
          "text": [
            "epoch:1\n",
            "val acc is 82.08%\n",
            "epoch:2\n",
            "val acc is 89.16%\n",
            "epoch:3\n",
            "val acc is 89.2%\n",
            "epoch:4\n",
            "val acc is 90.96%\n",
            "epoch:5\n",
            "val acc is 92.52%\n",
            "epoch:6\n",
            "val acc is 90.92%\n",
            "epoch:7\n",
            "val acc is 92.60000000000001%\n",
            "epoch:8\n",
            "val acc is 93.2%\n",
            "epoch:9\n",
            "val acc is 93.76%\n",
            "epoch:10\n",
            "val acc is 93.36%\n",
            "epoch:11\n",
            "val acc is 93.0%\n",
            "epoch:12\n",
            "val acc is 93.12%\n",
            "epoch:13\n",
            "val acc is 93.67999999999999%\n",
            "epoch:14\n",
            "val acc is 93.64%\n",
            "epoch:15\n",
            "val acc is 93.76%\n",
            "epoch:16\n",
            "val acc is 94.32000000000001%\n",
            "epoch:17\n",
            "val acc is 94.72%\n",
            "epoch:18\n",
            "val acc is 93.88%\n",
            "epoch:19\n",
            "val acc is 93.8%\n",
            "epoch:20\n",
            "val acc is 94.19999999999999%\n",
            "epoch:21\n",
            "val acc is 94.32000000000001%\n",
            "epoch:22\n",
            "val acc is 94.24%\n",
            "epoch:23\n",
            "val acc is 94.12%\n",
            "epoch:24\n",
            "val acc is 94.08%\n",
            "epoch:25\n",
            "val acc is 94.84%\n",
            "epoch:26\n",
            "val acc is 94.36%\n",
            "epoch:27\n",
            "val acc is 93.8%\n",
            "epoch:28\n",
            "val acc is 94.8%\n",
            "epoch:29\n",
            "val acc is 94.8%\n",
            "epoch:30\n",
            "val acc is 94.92%\n"
          ]
        }
      ]
    },
    {
      "cell_type": "markdown",
      "source": [
        "Use new images to test the Model"
      ],
      "metadata": {
        "id": "xcUMqaudQCrT"
      }
    },
    {
      "cell_type": "code",
      "source": [
        "from google.colab import drive\n",
        "drive.mount('/content/drive')"
      ],
      "metadata": {
        "colab": {
          "base_uri": "https://localhost:8080/"
        },
        "id": "kww8Q6SDSmM3",
        "outputId": "3a4c8b9f-aeb8-4017-a025-f13b2d79f0a9"
      },
      "execution_count": 7,
      "outputs": [
        {
          "output_type": "stream",
          "name": "stdout",
          "text": [
            "Mounted at /content/drive\n"
          ]
        }
      ]
    },
    {
      "cell_type": "code",
      "source": [
        "imgsPath = '/content/drive/MyDrive/data/cnnMNIST'\n",
        "height = width = 28\n",
        "labels = [\"2\", \"3\", \"5\", \"8\", \"9\"] # labels = filenames\n",
        "\n",
        "imgTensor = torch.zeros([len(labels), 1, height, width]) # init img tensor\n",
        "labelTensor = torch.zeros([len(labels)]) # init label tensor\n",
        "transformResize = Resize((height, width))\n",
        "transformGrayscale = Grayscale(1)\n",
        "\n",
        "for i, label in enumerate(labels):\n",
        "  imgPath = os.path.join(imgsPath, f'{label}.jpg')\n",
        "  image = transformResize(read_image(imgPath)).float()\n",
        "  image = transformGrayscale(image)\n",
        "  image = image / 255 # normalization\n",
        "  imgTensor[i, :, :, :] = image # put image into tensor\n",
        "  labelTensor[i] = float(label)\n",
        "\n",
        "testDataset = TensorDataset(imgTensor, labelTensor)\n",
        "testDataLoader = DataLoader(testDataset, shuffle=False)"
      ],
      "metadata": {
        "colab": {
          "base_uri": "https://localhost:8080/"
        },
        "id": "-PG3foQCTEMe",
        "outputId": "c279f681-37c5-47aa-e715-e1540709ee11"
      },
      "execution_count": 18,
      "outputs": [
        {
          "output_type": "stream",
          "name": "stderr",
          "text": [
            "/usr/local/lib/python3.10/dist-packages/torchvision/transforms/functional.py:1603: UserWarning: The default value of the antialias parameter of all the resizing transforms (Resize(), RandomResizedCrop(), etc.) will change from None to True in v0.17, in order to be consistent across the PIL and Tensor backends. To suppress this warning, directly pass antialias=True (recommended, future default), antialias=None (current default, which means False for Tensors and True for PIL), or antialias=False (only works on Tensors - PIL will still use antialiasing). This also applies if you are using the inference transforms from the models weights: update the call to weights.transforms(antialias=True).\n",
            "  warnings.warn(\n"
          ]
        }
      ]
    },
    {
      "cell_type": "markdown",
      "source": [
        "Let's check the transformed images"
      ],
      "metadata": {
        "id": "cmLENr8n75J_"
      }
    },
    {
      "cell_type": "code",
      "source": [
        "import matplotlib.pyplot as plt\n",
        "\n",
        "for k, (img, _) in enumerate(testDataset):\n",
        "    im = np.squeeze(img)\n",
        "    plt.subplot(3, 6, k+1)\n",
        "    plt.imshow(im, cmap='gray')"
      ],
      "metadata": {
        "colab": {
          "base_uri": "https://localhost:8080/",
          "height": 135
        },
        "id": "6Zl0W1A07Iah",
        "outputId": "6fe7a14a-11e2-40e8-91f0-1fcc2d747a4b"
      },
      "execution_count": 52,
      "outputs": [
        {
          "output_type": "display_data",
          "data": {
            "text/plain": [
              "<Figure size 640x480 with 5 Axes>"
            ],
            "image/png": "[encoded data removed]"
          },
          "metadata": {}
        }
      ]
    },
    {
      "cell_type": "markdown",
      "source": [
        "Start Testing"
      ],
      "metadata": {
        "id": "YW1wvor69PC2"
      }
    },
    {
      "cell_type": "code",
      "source": [
        "acc = 0\n",
        "allValNum = 0\n",
        "with torch.no_grad():\n",
        "    for xTest, zTest in testDataLoader:\n",
        "        xTest = xTest.to(device)\n",
        "        zTest = zTest.float().to(device)\n",
        "        outputs = model(xTest)\n",
        "\n",
        "        acc += (torch.argmax(outputs,dim=1) == zTest).cpu().sum().item()\n",
        "        allValNum += zTest.size()[0]\n",
        "print(f'test acc is {(acc/allValNum)*100}% in {acc} / {allValNum}')"
      ],
      "metadata": {
        "colab": {
          "base_uri": "https://localhost:8080/"
        },
        "id": "YTrzHsPmTcn3",
        "outputId": "6b625bb8-a516-4e29-8b15-025f91d66121"
      },
      "execution_count": 48,
      "outputs": [
        {
          "output_type": "stream",
          "name": "stdout",
          "text": [
            "test acc is 80.0% in 4 / 5\n"
          ]
        }
      ]
    }
  ]
}