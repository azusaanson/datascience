{
  "nbformat": 4,
  "nbformat_minor": 0,
  "metadata": {
    "colab": {
      "provenance": []
    },
    "kernelspec": {
      "name": "python3",
      "display_name": "Python 3"
    },
    "language_info": {
      "name": "python"
    }
  },
  "cells": [
    {
      "cell_type": "code",
      "source": [
        "%matplotlib inline\n",
        "import numpy as np\n",
        "import pandas as pd\n",
        "np.set_printoptions(suppress=True, precision=3)\n",
        "import matplotlib.pyplot as plt\n",
        "import torch\n",
        "import torch.nn as nn\n",
        "import torch.optim as optim"
      ],
      "metadata": {
        "id": "CXUkPCaEM5bp"
      },
      "execution_count": 1,
      "outputs": []
    },
    {
      "cell_type": "code",
      "source": [
        "from google.colab import drive\n",
        "drive.mount('/content/drive')"
      ],
      "metadata": {
        "id": "PtslvOmuNIjL",
        "colab": {
          "base_uri": "https://localhost:8080/"
        },
        "outputId": "31e9f327-440a-45dc-99dc-6b87b40b4e20"
      },
      "execution_count": 2,
      "outputs": [
        {
          "output_type": "stream",
          "name": "stdout",
          "text": [
            "Mounted at /content/drive\n"
          ]
        }
      ]
    },
    {
      "cell_type": "markdown",
      "source": [
        "## Read Data"
      ],
      "metadata": {
        "id": "rKBUWOhfr6Gx"
      }
    },
    {
      "cell_type": "code",
      "source": [
        "restaurantRawDf = pd.read_csv(\"/content/drive/MyDrive/data/restaurant.csv\", encoding=\"UTF-8\")\n",
        "restaurantDf1 = restaurantRawDf[['料理区分']]\n",
        "restaurantDf1 = pd.get_dummies(restaurantDf1, drop_first=True)\n",
        "restaurantDf2 = restaurantRawDf[['ランチ価格(円)', 'カロリー', '味濃い', '見た目', 'ゆっくり座れる']]\n",
        "restaurantDf3 = restaurantRawDf[['好き']]\n",
        "restaurantDf = pd.concat([restaurantDf1, restaurantDf2, restaurantDf3], axis=1)\n",
        "\n",
        "RawData = restaurantDf.values\n",
        "\n",
        "# check data\n",
        "print(type(RawData))\n",
        "print(RawData[:5])"
      ],
      "metadata": {
        "colab": {
          "base_uri": "https://localhost:8080/"
        },
        "id": "YkbA4VMaNDTi",
        "outputId": "89dda0e2-f521-4e2b-c872-fb810a01d322"
      },
      "execution_count": 4,
      "outputs": [
        {
          "output_type": "stream",
          "name": "stdout",
          "text": [
            "<class 'numpy.ndarray'>\n",
            "[[  0   0   0   0   0   0   0   0   0   0   0 600 430   3   3   3   0]\n",
            " [  0   0   0   1   0   0   0   0   0   0   0 450 350   1   3   2   1]\n",
            " [  0   0   0   0   0   0   0   1   0   0   0 550 640   3   2   2   0]\n",
            " [  0   0   0   0   0   0   1   0   0   0   0 850 900   5   1   5   0]\n",
            " [  0   0   0   0   0   0   0   0   1   0   0 650 700   2   2   3   0]]\n"
          ]
        }
      ]
    },
    {
      "cell_type": "code",
      "source": [
        "# Normalization\n",
        "NpData = np.zeros(RawData.shape)\n",
        "for i in range(RawData.shape[1]) :\n",
        "  tmp = RawData[:,i]\n",
        "  NpData[:,i] = (tmp - tmp.min()) / (tmp.max() - tmp.min())\n",
        "  # Standardization: NpData[:,i] = (tmp - tmp.mean()) / tmp.std()\n",
        "\n",
        "# np array to tensor\n",
        "# X=input　data, Z=ground truth data\n",
        "X = torch.tensor(NpData[:,:-1]).float()\n",
        "Z = torch.tensor(NpData[:,-1]).float().view((-1,1)) # 1col become vector, so use \"view\" change it to matrix"
      ],
      "metadata": {
        "id": "TNoioKN1NWvy"
      },
      "execution_count": 5,
      "outputs": []
    },
    {
      "cell_type": "markdown",
      "source": [
        "## Define Model"
      ],
      "metadata": {
        "id": "NvIwLnADNL1R"
      }
    },
    {
      "cell_type": "code",
      "source": [
        "class myNet(nn.Module):\n",
        "  def __init__(self, n_input, n_output):\n",
        "    super().__init__()\n",
        "\n",
        "    # Linear Combination s \n",
        "    # number of Units=3\n",
        "    self.s2 = nn.Linear(n_input, 3)\n",
        "    self.s3 = nn.Linear(3, 3)\n",
        "    self.s4 = nn.Linear(3, n_output)\n",
        "\n",
        "    # Activation Function\n",
        "    self.sigmoid = nn.Sigmoid()\n",
        "\n",
        "  # Forward Propagation\n",
        "  def forward(self,x):\n",
        "    # 2nd layer\n",
        "    x = self.s2(x)\n",
        "    x = self.sigmoid(x)\n",
        "    # 3rd layer\n",
        "    x = self.s3(x)\n",
        "    x = self.sigmoid(x)\n",
        "    # 4th layer (output layer)\n",
        "    x = self.s4(x)\n",
        "    x = self.sigmoid(x)\n",
        "    return x"
      ],
      "metadata": {
        "id": "cjxKWRuoNPX6"
      },
      "execution_count": 6,
      "outputs": []
    },
    {
      "cell_type": "markdown",
      "source": [
        "## Learning Steps"
      ],
      "metadata": {
        "id": "zTiTtXpYNdHd"
      }
    },
    {
      "cell_type": "code",
      "source": [
        "# fix seed\n",
        "torch.manual_seed(12345)\n",
        "\n",
        "net = myNet(X.shape[1],Z.shape[1])\n",
        "\n",
        "criterion = nn.MSELoss()\n",
        "optimizer = optim.Adam(net.parameters(), lr=0.01)\n",
        "\n",
        "# check parameters in net\n",
        "for parameter in net.named_parameters():\n",
        "  print(parameter)"
      ],
      "metadata": {
        "colab": {
          "base_uri": "https://localhost:8080/"
        },
        "id": "KC99bKimNffU",
        "outputId": "0f44e1d7-851b-4452-ffc6-6ba26c1a3c9c"
      },
      "execution_count": 7,
      "outputs": [
        {
          "output_type": "stream",
          "name": "stdout",
          "text": [
            "('s2.weight', Parameter containing:\n",
            "tensor([[ 0.2409,  0.1898,  0.2461, -0.0195, -0.2084, -0.1608, -0.0663,  0.0338,\n",
            "         -0.0812, -0.1440, -0.0203,  0.1577,  0.2079, -0.1234, -0.1433, -0.0115],\n",
            "        [ 0.1100,  0.1119, -0.0931,  0.0866, -0.0425, -0.0300, -0.2027,  0.1791,\n",
            "         -0.1763,  0.0623, -0.1251, -0.2108, -0.0159,  0.0830, -0.2294,  0.0181],\n",
            "        [-0.0940, -0.0356, -0.1115, -0.0311,  0.2249, -0.2403, -0.1183,  0.2125,\n",
            "         -0.0132, -0.0519,  0.0841, -0.1056,  0.1027, -0.1542, -0.0752,  0.1913]],\n",
            "       requires_grad=True))\n",
            "('s2.bias', Parameter containing:\n",
            "tensor([ 0.0245, -0.1977,  0.1502], requires_grad=True))\n",
            "('s3.weight', Parameter containing:\n",
            "tensor([[-0.3837, -0.0373, -0.0017],\n",
            "        [-0.2544,  0.2584, -0.0571],\n",
            "        [ 0.3153,  0.2934, -0.4515]], requires_grad=True))\n",
            "('s3.bias', Parameter containing:\n",
            "tensor([0.4312, 0.0144, 0.4559], requires_grad=True))\n",
            "('s4.weight', Parameter containing:\n",
            "tensor([[ 0.3593, -0.1698, -0.1143]], requires_grad=True))\n",
            "('s4.bias', Parameter containing:\n",
            "tensor([-0.2112], requires_grad=True))\n"
          ]
        }
      ]
    },
    {
      "cell_type": "markdown",
      "source": [
        "## Start Learning"
      ],
      "metadata": {
        "id": "npzbtUlbNoC6"
      }
    },
    {
      "cell_type": "code",
      "source": [
        "num_epochs = 1000\n",
        "progress = np.zeros((0,2))\n",
        "\n",
        "for epoch in range(num_epochs):\n",
        "  Yp = net.forward(X)\n",
        "  err = criterion(Yp,Z)\n",
        "  err.backward()\n",
        "\n",
        "  optimizer.step()\n",
        "  optimizer.zero_grad()\n",
        "  \n",
        "  if (epoch % 10 == 0):\n",
        "    item = np.array([epoch, err.item()])\n",
        "    progress = np.vstack((progress, item))\n",
        "    print(f'epoch = {epoch}  err = {err:.4f}')"
      ],
      "metadata": {
        "colab": {
          "base_uri": "https://localhost:8080/"
        },
        "id": "jsjFtrVMNpnk",
        "outputId": "c445751f-2f1a-498a-91cc-a63a0cd33d36"
      },
      "execution_count": 8,
      "outputs": [
        {
          "output_type": "stream",
          "name": "stdout",
          "text": [
            "epoch = 0  err = 0.2549\n",
            "epoch = 10  err = 0.2484\n",
            "epoch = 20  err = 0.2483\n",
            "epoch = 30  err = 0.2472\n",
            "epoch = 40  err = 0.2455\n",
            "epoch = 50  err = 0.2417\n",
            "epoch = 60  err = 0.2342\n",
            "epoch = 70  err = 0.2207\n",
            "epoch = 80  err = 0.2011\n",
            "epoch = 90  err = 0.1785\n",
            "epoch = 100  err = 0.1577\n",
            "epoch = 110  err = 0.1412\n",
            "epoch = 120  err = 0.1288\n",
            "epoch = 130  err = 0.1195\n",
            "epoch = 140  err = 0.1124\n",
            "epoch = 150  err = 0.1068\n",
            "epoch = 160  err = 0.1022\n",
            "epoch = 170  err = 0.0984\n",
            "epoch = 180  err = 0.0951\n",
            "epoch = 190  err = 0.0922\n",
            "epoch = 200  err = 0.0898\n",
            "epoch = 210  err = 0.0876\n",
            "epoch = 220  err = 0.0856\n",
            "epoch = 230  err = 0.0839\n",
            "epoch = 240  err = 0.0824\n",
            "epoch = 250  err = 0.0811\n",
            "epoch = 260  err = 0.0799\n",
            "epoch = 270  err = 0.0788\n",
            "epoch = 280  err = 0.0779\n",
            "epoch = 290  err = 0.0771\n",
            "epoch = 300  err = 0.0764\n",
            "epoch = 310  err = 0.0757\n",
            "epoch = 320  err = 0.0751\n",
            "epoch = 330  err = 0.0746\n",
            "epoch = 340  err = 0.0741\n",
            "epoch = 350  err = 0.0737\n",
            "epoch = 360  err = 0.0733\n",
            "epoch = 370  err = 0.0730\n",
            "epoch = 380  err = 0.0727\n",
            "epoch = 390  err = 0.0724\n",
            "epoch = 400  err = 0.0721\n",
            "epoch = 410  err = 0.0718\n",
            "epoch = 420  err = 0.0716\n",
            "epoch = 430  err = 0.0713\n",
            "epoch = 440  err = 0.0710\n",
            "epoch = 450  err = 0.0706\n",
            "epoch = 460  err = 0.0697\n",
            "epoch = 470  err = 0.0680\n",
            "epoch = 480  err = 0.0653\n",
            "epoch = 490  err = 0.0616\n",
            "epoch = 500  err = 0.0576\n",
            "epoch = 510  err = 0.0541\n",
            "epoch = 520  err = 0.0515\n",
            "epoch = 530  err = 0.0495\n",
            "epoch = 540  err = 0.0481\n",
            "epoch = 550  err = 0.0469\n",
            "epoch = 560  err = 0.0459\n",
            "epoch = 570  err = 0.0450\n",
            "epoch = 580  err = 0.0443\n",
            "epoch = 590  err = 0.0436\n",
            "epoch = 600  err = 0.0430\n",
            "epoch = 610  err = 0.0424\n",
            "epoch = 620  err = 0.0419\n",
            "epoch = 630  err = 0.0413\n",
            "epoch = 640  err = 0.0407\n",
            "epoch = 650  err = 0.0401\n",
            "epoch = 660  err = 0.0394\n",
            "epoch = 670  err = 0.0387\n",
            "epoch = 680  err = 0.0377\n",
            "epoch = 690  err = 0.0364\n",
            "epoch = 700  err = 0.0344\n",
            "epoch = 710  err = 0.0312\n",
            "epoch = 720  err = 0.0263\n",
            "epoch = 730  err = 0.0209\n",
            "epoch = 740  err = 0.0169\n",
            "epoch = 750  err = 0.0141\n",
            "epoch = 760  err = 0.0120\n",
            "epoch = 770  err = 0.0104\n",
            "epoch = 780  err = 0.0092\n",
            "epoch = 790  err = 0.0082\n",
            "epoch = 800  err = 0.0074\n",
            "epoch = 810  err = 0.0067\n",
            "epoch = 820  err = 0.0061\n",
            "epoch = 830  err = 0.0056\n",
            "epoch = 840  err = 0.0051\n",
            "epoch = 850  err = 0.0047\n",
            "epoch = 860  err = 0.0044\n",
            "epoch = 870  err = 0.0040\n",
            "epoch = 880  err = 0.0037\n",
            "epoch = 890  err = 0.0035\n",
            "epoch = 900  err = 0.0033\n",
            "epoch = 910  err = 0.0031\n",
            "epoch = 920  err = 0.0029\n",
            "epoch = 930  err = 0.0027\n",
            "epoch = 940  err = 0.0025\n",
            "epoch = 950  err = 0.0024\n",
            "epoch = 960  err = 0.0023\n",
            "epoch = 970  err = 0.0021\n",
            "epoch = 980  err = 0.0020\n",
            "epoch = 990  err = 0.0019\n"
          ]
        }
      ]
    },
    {
      "cell_type": "markdown",
      "source": [
        "## Result"
      ],
      "metadata": {
        "id": "n1Isz-bON2EU"
      }
    },
    {
      "cell_type": "code",
      "source": [
        "# Learning Curve\n",
        "plt.rcParams['font.size'] = 19\n",
        "plt.rcParams['figure.figsize'] = (8,6)\n",
        "plt.plot(progress[:,0], progress[:,1], 'k')\n",
        "plt.xlabel('Epoch');plt.ylabel('Error');\n",
        "plt.savefig('learning_curve.png')"
      ],
      "metadata": {
        "colab": {
          "base_uri": "https://localhost:8080/",
          "height": 566
        },
        "id": "7kmbxP32N3II",
        "outputId": "595ee631-4b0c-4444-bf25-927758315bca"
      },
      "execution_count": 9,
      "outputs": [
        {
          "output_type": "display_data",
          "data": {
            "text/plain": [
              "<Figure size 800x600 with 1 Axes>"
            ],
            "image/png": "[encoded data removed]"
          },
          "metadata": {}
        }
      ]
    },
    {
      "cell_type": "code",
      "source": [
        "Yp_np = Yp.data.numpy().copy()\n",
        "Z_np = Z.data.numpy().copy()\n",
        "YZ = np.hstack([Yp_np,Z_np])\n",
        "print(YZ.T)"
      ],
      "metadata": {
        "colab": {
          "base_uri": "https://localhost:8080/"
        },
        "id": "2bcqITM_N3oM",
        "outputId": "4df50ac2-984f-4988-961b-672ae3d0a22e"
      },
      "execution_count": 10,
      "outputs": [
        {
          "output_type": "stream",
          "name": "stdout",
          "text": [
            "[[0.021 0.991 0.003 0.003 0.003 0.992 0.003 0.003 0.021 0.944 0.04  0.007\n",
            "  0.883 0.987 0.945 0.124 0.988 0.069 0.976 0.988 0.946 0.977 0.99  0.003\n",
            "  0.983 0.991]\n",
            " [0.    1.    0.    0.    0.    1.    0.    0.    0.    1.    0.    0.\n",
            "  1.    1.    1.    0.    1.    0.    1.    1.    1.    1.    1.    0.\n",
            "  1.    1.   ]]\n"
          ]
        }
      ]
    }
  ]
}