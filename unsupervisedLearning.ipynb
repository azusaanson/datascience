{
  "cells": [
    {
      "cell_type": "code",
      "source": [
        "!pip install -q japanize_matplotlib"
      ],
      "metadata": {
        "colab": {
          "base_uri": "https://localhost:8080/"
        },
        "id": "f9P7II2dknXD",
        "outputId": "93180b7e-1d57-4047-b29f-cd95abd7ced8"
      },
      "execution_count": 1,
      "outputs": [
        {
          "output_type": "stream",
          "name": "stdout",
          "text": [
            "\u001b[2K     \u001b[90m━━━━━━━━━━━━━━━━━━━━━━━━━━━━━━━━━━━━━━━━\u001b[0m \u001b[32m4.1/4.1 MB\u001b[0m \u001b[31m19.5 MB/s\u001b[0m eta \u001b[36m0:00:00\u001b[0m\n",
            "\u001b[?25h  Preparing metadata (setup.py) ... \u001b[?25l\u001b[?25hdone\n",
            "  Building wheel for japanize_matplotlib (setup.py) ... \u001b[?25l\u001b[?25hdone\n"
          ]
        }
      ]
    },
    {
      "cell_type": "code",
      "execution_count": 2,
      "metadata": {
        "id": "Dlk08P-B5i3w"
      },
      "outputs": [],
      "source": [
        "import pandas as pd\n",
        "import numpy as np\n",
        "import matplotlib.pyplot as plt\n",
        "import japanize_matplotlib\n",
        "from sklearn.cluster import KMeans\n",
        "from sklearn.preprocessing import MinMaxScaler\n",
        "%matplotlib inline"
      ]
    },
    {
      "cell_type": "code",
      "source": [
        "from google.colab import drive\n",
        "drive.mount('/content/drive')"
      ],
      "metadata": {
        "colab": {
          "base_uri": "https://localhost:8080/"
        },
        "id": "W2st0bVrkuev",
        "outputId": "2cce039c-d4f7-41cf-c4dd-4006c56c73ff"
      },
      "execution_count": 3,
      "outputs": [
        {
          "output_type": "stream",
          "name": "stdout",
          "text": [
            "Mounted at /content/drive\n"
          ]
        }
      ]
    },
    {
      "cell_type": "code",
      "execution_count": 4,
      "metadata": {
        "id": "4klCw_n45p_W"
      },
      "outputs": [],
      "source": [
        "# read data\n",
        "restaurantDfRaw = pd.read_csv('/content/drive/MyDrive/data/restaurant.csv')\n",
        "\n",
        "# only\"好き\" and drop categorical variables\n",
        "restaurantDf = restaurantDfRaw[restaurantDfRaw['好き']==1].drop(['好き','料理区分','店名'],axis=1)\n",
        "\n",
        "# normalization\n",
        "restaurantDfNorm = MinMaxScaler().fit_transform(restaurantDf)\n",
        "restaurantDfNorm = pd.DataFrame(restaurantDfNorm ,columns = restaurantDf.columns)"
      ]
    },
    {
      "cell_type": "markdown",
      "source": [
        "## K-means"
      ],
      "metadata": {
        "id": "3ezxoL7fhgCU"
      }
    },
    {
      "cell_type": "code",
      "execution_count": 55,
      "metadata": {
        "colab": {
          "base_uri": "https://localhost:8080/",
          "height": 497
        },
        "id": "lKEMUzpA5tnD",
        "outputId": "05a6e1cc-879f-41b7-c083-3b4f80a97106"
      },
      "outputs": [
        {
          "output_type": "stream",
          "name": "stderr",
          "text": [
            "/usr/local/lib/python3.10/dist-packages/sklearn/cluster/_kmeans.py:870: FutureWarning: The default value of `n_init` will change from 10 to 'auto' in 1.4. Set the value of `n_init` explicitly to suppress the warning\n",
            "  warnings.warn(\n"
          ]
        },
        {
          "output_type": "execute_result",
          "data": {
            "text/plain": [
              "<Axes: xlabel='Cluster'>"
            ]
          },
          "metadata": {},
          "execution_count": 55
        },
        {
          "output_type": "display_data",
          "data": {
            "text/plain": [
              "<Figure size 640x480 with 1 Axes>"
            ],
            "image/png": "[encoded data removed]"
          },
          "metadata": {}
        }
      ],
      "source": [
        "# k = 4\n",
        "cluster = KMeans(n_clusters=4,random_state=0).fit(restaurantDfNorm)\n",
        "restaurantDfNorm['Cluster'] = cluster.labels_\n",
        "\n",
        "# avgs bar chart grouped by clusters\n",
        "restaurantCluster = restaurantDfNorm.groupby('Cluster').mean()\n",
        "restaurantCluster.plot(kind='bar',colormap='viridis',alpha=0.8)"
      ]
    },
    {
      "cell_type": "code",
      "execution_count": 56,
      "metadata": {
        "colab": {
          "base_uri": "https://localhost:8080/",
          "height": 771
        },
        "id": "ZCoy573K5wZs",
        "outputId": "c395d154-50cd-4960-81c0-55ad3953f81a"
      },
      "outputs": [
        {
          "output_type": "stream",
          "name": "stderr",
          "text": [
            "/usr/local/lib/python3.10/dist-packages/sklearn/cluster/_kmeans.py:870: FutureWarning: The default value of `n_init` will change from 10 to 'auto' in 1.4. Set the value of `n_init` explicitly to suppress the warning\n",
            "  warnings.warn(\n",
            "/usr/local/lib/python3.10/dist-packages/sklearn/cluster/_kmeans.py:870: FutureWarning: The default value of `n_init` will change from 10 to 'auto' in 1.4. Set the value of `n_init` explicitly to suppress the warning\n",
            "  warnings.warn(\n",
            "/usr/local/lib/python3.10/dist-packages/sklearn/cluster/_kmeans.py:870: FutureWarning: The default value of `n_init` will change from 10 to 'auto' in 1.4. Set the value of `n_init` explicitly to suppress the warning\n",
            "  warnings.warn(\n",
            "/usr/local/lib/python3.10/dist-packages/sklearn/cluster/_kmeans.py:870: FutureWarning: The default value of `n_init` will change from 10 to 'auto' in 1.4. Set the value of `n_init` explicitly to suppress the warning\n",
            "  warnings.warn(\n",
            "/usr/local/lib/python3.10/dist-packages/sklearn/cluster/_kmeans.py:870: FutureWarning: The default value of `n_init` will change from 10 to 'auto' in 1.4. Set the value of `n_init` explicitly to suppress the warning\n",
            "  warnings.warn(\n",
            "/usr/local/lib/python3.10/dist-packages/sklearn/cluster/_kmeans.py:870: FutureWarning: The default value of `n_init` will change from 10 to 'auto' in 1.4. Set the value of `n_init` explicitly to suppress the warning\n",
            "  warnings.warn(\n",
            "/usr/local/lib/python3.10/dist-packages/sklearn/cluster/_kmeans.py:870: FutureWarning: The default value of `n_init` will change from 10 to 'auto' in 1.4. Set the value of `n_init` explicitly to suppress the warning\n",
            "  warnings.warn(\n",
            "/usr/local/lib/python3.10/dist-packages/sklearn/cluster/_kmeans.py:870: FutureWarning: The default value of `n_init` will change from 10 to 'auto' in 1.4. Set the value of `n_init` explicitly to suppress the warning\n",
            "  warnings.warn(\n",
            "/usr/local/lib/python3.10/dist-packages/sklearn/cluster/_kmeans.py:870: FutureWarning: The default value of `n_init` will change from 10 to 'auto' in 1.4. Set the value of `n_init` explicitly to suppress the warning\n",
            "  warnings.warn(\n"
          ]
        },
        {
          "output_type": "display_data",
          "data": {
            "text/plain": [
              "<Figure size 640x480 with 1 Axes>"
            ],
            "image/png": "[encoded data removed]"
          },
          "metadata": {}
        }
      ],
      "source": [
        "# Elbow Method\n",
        "SSE=[]\n",
        "for i in range(2,11):\n",
        "  model = KMeans(n_clusters=i,random_state=0).fit(restaurantDfNorm.drop('Cluster',axis=1))\n",
        "  SSE.append(model.inertia_)\n",
        "\n",
        "plt.plot(range(2,11), SSE, marker='o')\n",
        "plt.xticks(np.arange(1,11,1))\n",
        "plt.xlabel('Number of clusters')\n",
        "plt.ylabel('SSE')\n",
        "plt.show()"
      ]
    },
    {
      "cell_type": "code",
      "source": [
        "# check items in clusters\n",
        "restaurantLikeDf = restaurantDfRaw[restaurantDfRaw['好き']==1]\n",
        "nameMap = {}\n",
        "for i in range(len(restaurantLikeDf)):\n",
        "  nameMap[i] = restaurantLikeDf['店名'].values[i]\n",
        "\n",
        "k = 4\n",
        "for i in range(0, k):\n",
        "  d = restaurantDfNorm[restaurantDfNorm['Cluster'] == i]\n",
        "  print(f'クラスタ{i}のアイテム: {[nameMap[j] for j in list(d.index)]}')"
      ],
      "metadata": {
        "colab": {
          "base_uri": "https://localhost:8080/"
        },
        "id": "EuDteHTulV7h",
        "outputId": "54eaf299-cb56-47ab-945f-896e258e615e"
      },
      "execution_count": 58,
      "outputs": [
        {
          "output_type": "stream",
          "name": "stdout",
          "text": [
            "クラスタ0のアイテム:['どんぴしゃり', '武蔵野あぶら学会', '渡なべ', 'らぁ麺やまぐち']\n",
            "クラスタ1のアイテム:['麺屋こころ', 'ティーヌン', '末廣ラーメン本舗', '揚げ太郎', 'レッドロック']\n",
            "クラスタ2のアイテム:['subway', '蔭山', 'うどん蔵之介']\n",
            "クラスタ3のアイテム:['肉ドレス酒場', 'とんかつ ひなた']\n"
          ]
        }
      ]
    },
    {
      "cell_type": "markdown",
      "source": [
        "## AutoEncoder"
      ],
      "metadata": {
        "id": "9Js2LU68hpJk"
      }
    },
    {
      "cell_type": "code",
      "execution_count": 59,
      "metadata": {
        "colab": {
          "base_uri": "https://localhost:8080/"
        },
        "id": "wGn3NORv5zkl",
        "outputId": "36aa042f-d226-47ed-861a-b920db92c753"
      },
      "outputs": [
        {
          "output_type": "execute_result",
          "data": {
            "text/plain": [
              "<torch._C.Generator at 0x7fdd5f377b90>"
            ]
          },
          "metadata": {},
          "execution_count": 59
        }
      ],
      "source": [
        "import torch\n",
        "import torch.nn as nn\n",
        "\n",
        "# fix seed\n",
        "torch.manual_seed(0)"
      ]
    },
    {
      "cell_type": "code",
      "execution_count": 60,
      "metadata": {
        "id": "laz3uYm77mu5"
      },
      "outputs": [],
      "source": [
        "# transform to tensor\n",
        "restaurantTensor = torch.Tensor(restaurantDfNorm.drop(['Cluster'],axis=1).values).float()\n",
        "\n",
        "# define unit nums\n",
        "inputDim = restaurantTensor.shape[1]\n",
        "hiddenDim1 = 4\n",
        "hiddenDim2 = 2\n",
        "\n",
        "# define autoencoder\n",
        "class Autoencoder(nn.Module):\n",
        "    def __init__(self, inputDim, hiddenDim1, hiddenDim2):\n",
        "        super(Autoencoder, self).__init__()\n",
        "        self.encoder = nn.Sequential(\n",
        "              nn.Linear(inputDim, hiddenDim1),\n",
        "              nn.ReLU(inplace=True),\n",
        "              nn.Linear(hiddenDim1,hiddenDim2))\n",
        "        self.Sigmoid = nn.Sigmoid()\n",
        "        self.decoder = nn.Sequential(\n",
        "              nn.Linear(hiddenDim2, hiddenDim1),\n",
        "              nn.ReLU(inplace=True),\n",
        "              nn.Linear(hiddenDim1,inputDim))\n",
        "\n",
        "    def forward(self, x):\n",
        "        x = self.encoder(x)\n",
        "        x = self.Sigmoid(x)\n",
        "        x = self.decoder(x)\n",
        "        return x\n",
        "\n",
        "model = Autoencoder(inputDim, hiddenDim1, hiddenDim2)"
      ]
    },
    {
      "cell_type": "code",
      "execution_count": 61,
      "metadata": {
        "colab": {
          "base_uri": "https://localhost:8080/"
        },
        "id": "iz4eQuzO72pp",
        "outputId": "ced8c748-6094-4259-c712-788fd44fb17e"
      },
      "outputs": [
        {
          "output_type": "stream",
          "name": "stdout",
          "text": [
            "Epoch: 0, Loss: 0.29999151825904846\n",
            "Epoch: 1000, Loss: 0.09167692810297012\n",
            "Epoch: 2000, Loss: 0.09167692810297012\n",
            "Epoch: 3000, Loss: 0.09167692810297012\n",
            "Epoch: 4000, Loss: 0.09167693555355072\n",
            "Epoch: 5000, Loss: 0.09167692810297012\n",
            "Epoch: 6000, Loss: 0.09167692810297012\n",
            "Epoch: 7000, Loss: 0.09167692810297012\n",
            "Epoch: 8000, Loss: 0.09167692810297012\n",
            "Epoch: 9000, Loss: 0.09167693555355072\n"
          ]
        }
      ],
      "source": [
        "# loss func and optimizer\n",
        "criterion = nn.MSELoss()\n",
        "optimizer = torch.optim.Adam(model.parameters(), lr=0.01)\n",
        "\n",
        "# start learning\n",
        "for epoch in range(10000):\n",
        "    pred = model(restaurantTensor)\n",
        "    loss = criterion(pred, restaurantTensor)\n",
        "    optimizer.zero_grad()\n",
        "    loss.backward()\n",
        "    optimizer.step()\n",
        "    if epoch % 1000 == 0:\n",
        "        print(f'Epoch: {epoch}, Loss: {loss.item()}')"
      ]
    },
    {
      "cell_type": "code",
      "execution_count": 62,
      "metadata": {
        "colab": {
          "base_uri": "https://localhost:8080/",
          "height": 429
        },
        "id": "t8IFO7-c772q",
        "outputId": "feb7b055-364a-4a78-d29c-e260ae4b8337"
      },
      "outputs": [
        {
          "output_type": "display_data",
          "data": {
            "text/plain": [
              "<Figure size 640x480 with 1 Axes>"
            ],
            "image/png": "[encoded data removed]"
          },
          "metadata": {}
        }
      ],
      "source": [
        "# get dimensionality reduction data\n",
        "encodedData = model.encoder(restaurantTensor).detach().numpy()\n",
        "\n",
        "# plot data\n",
        "markers = ['^', 's', 'o', '*']\n",
        "for i in range(4):\n",
        "    clusterData = encodedData[restaurantDfNorm['Cluster'] == i]\n",
        "    plt.scatter(clusterData[:, 0], clusterData[:, 1],\n",
        "                label=f'Cluster {i}', marker=markers[i])\n",
        "plt.legend(fontsize=12, loc ='lower left')\n",
        "plt.show()"
      ]
    },
    {
      "cell_type": "markdown",
      "source": [
        "## Association Analysis"
      ],
      "metadata": {
        "id": "23nObWTmhx9l"
      }
    },
    {
      "cell_type": "code",
      "execution_count": 63,
      "metadata": {
        "id": "ssXW_HgO6DR2"
      },
      "outputs": [],
      "source": [
        "!pip install -q mlxtend | tail -n 1\n",
        "from mlxtend.frequent_patterns import apriori, association_rules"
      ]
    },
    {
      "cell_type": "code",
      "source": [
        "#データの成形\n",
        "restaurantDfDum = restaurantDfRaw.drop(['店名'],axis=1).astype(str)\n",
        "restaurantDfDum = pd.get_dummies(restaurantDfDum)"
      ],
      "metadata": {
        "id": "_WD9g8ZzewRR"
      },
      "execution_count": 80,
      "outputs": []
    },
    {
      "cell_type": "code",
      "execution_count": 93,
      "metadata": {
        "id": "ApYwGsw36F-O",
        "colab": {
          "base_uri": "https://localhost:8080/",
          "height": 143
        },
        "outputId": "ea6144cd-f57e-4d31-8560-c3d7bf1c8cf2"
      },
      "outputs": [
        {
          "output_type": "execute_result",
          "data": {
            "text/plain": [
              "   antecedents consequents  antecedent support  consequent support   support  \\\n",
              "3      (味濃い_3)      (好き_1)            0.423077            0.538462  0.269231   \n",
              "6      (見た目_4)      (好き_1)            0.307692            0.538462  0.230769   \n",
              "7  (ゆっくり座れる_1)      (好き_1)            0.384615            0.538462  0.230769   \n",
              "\n",
              "   confidence      lift  leverage  conviction  \n",
              "3    0.636364  1.181818  0.041420    1.269231  \n",
              "6    0.750000  1.392857  0.065089    1.846154  \n",
              "7    0.600000  1.114286  0.023669    1.153846  "
            ],
            "text/html": [
              "\n",
              "  <div id=\"df-1cec94d1-2836-499f-87a4-48670fd2c7ba\">\n",
              "    <div class=\"colab-df-container\">\n",
              "      <div>\n",
              "<style scoped>\n",
              "    .dataframe tbody tr th:only-of-type {\n",
              "        vertical-align: middle;\n",
              "    }\n",
              "\n",
              "    .dataframe tbody tr th {\n",
              "        vertical-align: top;\n",
              "    }\n",
              "\n",
              "    .dataframe thead th {\n",
              "        text-align: right;\n",
              "    }\n",
              "</style>\n",
              "<table border=\"1\" class=\"dataframe\">\n",
              "  <thead>\n",
              "    <tr style=\"text-align: right;\">\n",
              "      <th></th>\n",
              "      <th>antecedents</th>\n",
              "      <th>consequents</th>\n",
              "      <th>antecedent support</th>\n",
              "      <th>consequent support</th>\n",
              "      <th>support</th>\n",
              "      <th>confidence</th>\n",
              "      <th>lift</th>\n",
              "      <th>leverage</th>\n",
              "      <th>conviction</th>\n",
              "    </tr>\n",
              "  </thead>\n",
              "  <tbody>\n",
              "    <tr>\n",
              "      <th>3</th>\n",
              "      <td>(味濃い_3)</td>\n",
              "      <td>(好き_1)</td>\n",
              "      <td>0.423077</td>\n",
              "      <td>0.538462</td>\n",
              "      <td>0.269231</td>\n",
              "      <td>0.636364</td>\n",
              "      <td>1.181818</td>\n",
              "      <td>0.041420</td>\n",
              "      <td>1.269231</td>\n",
              "    </tr>\n",
              "    <tr>\n",
              "      <th>6</th>\n",
              "      <td>(見た目_4)</td>\n",
              "      <td>(好き_1)</td>\n",
              "      <td>0.307692</td>\n",
              "      <td>0.538462</td>\n",
              "      <td>0.230769</td>\n",
              "      <td>0.750000</td>\n",
              "      <td>1.392857</td>\n",
              "      <td>0.065089</td>\n",
              "      <td>1.846154</td>\n",
              "    </tr>\n",
              "    <tr>\n",
              "      <th>7</th>\n",
              "      <td>(ゆっくり座れる_1)</td>\n",
              "      <td>(好き_1)</td>\n",
              "      <td>0.384615</td>\n",
              "      <td>0.538462</td>\n",
              "      <td>0.230769</td>\n",
              "      <td>0.600000</td>\n",
              "      <td>1.114286</td>\n",
              "      <td>0.023669</td>\n",
              "      <td>1.153846</td>\n",
              "    </tr>\n",
              "  </tbody>\n",
              "</table>\n",
              "</div>\n",
              "      <button class=\"colab-df-convert\" onclick=\"convertToInteractive('df-1cec94d1-2836-499f-87a4-48670fd2c7ba')\"\n",
              "              title=\"Convert this dataframe to an interactive table.\"\n",
              "              style=\"display:none;\">\n",
              "        \n",
              "  <svg xmlns=\"http://www.w3.org/2000/svg\" height=\"24px\"viewBox=\"0 0 24 24\"\n",
              "       width=\"24px\">\n",
              "    <path d=\"M0 0h24v24H0V0z\" fill=\"none\"/>\n",
              "    <path d=\"M18.56 5.44l.94 2.06.94-2.06 2.06-.94-2.06-.94-.94-2.06-.94 2.06-2.06.94zm-11 1L8.5 8.5l.94-2.06 2.06-.94-2.06-.94L8.5 2.5l-.94 2.06-2.06.94zm10 10l.94 2.06.94-2.06 2.06-.94-2.06-.94-.94-2.06-.94 2.06-2.06.94z\"/><path d=\"M17.41 7.96l-1.37-1.37c-.4-.4-.92-.59-1.43-.59-.52 0-1.04.2-1.43.59L10.3 9.45l-7.72 7.72c-.78.78-.78 2.05 0 2.83L4 21.41c.39.39.9.59 1.41.59.51 0 1.02-.2 1.41-.59l7.78-7.78 2.81-2.81c.8-.78.8-2.07 0-2.86zM5.41 20L4 18.59l7.72-7.72 1.47 1.35L5.41 20z\"/>\n",
              "  </svg>\n",
              "      </button>\n",
              "      \n",
              "  <style>\n",
              "    .colab-df-container {\n",
              "      display:flex;\n",
              "      flex-wrap:wrap;\n",
              "      gap: 12px;\n",
              "    }\n",
              "\n",
              "    .colab-df-convert {\n",
              "      background-color: #E8F0FE;\n",
              "      border: none;\n",
              "      border-radius: 50%;\n",
              "      cursor: pointer;\n",
              "      display: none;\n",
              "      fill: #1967D2;\n",
              "      height: 32px;\n",
              "      padding: 0 0 0 0;\n",
              "      width: 32px;\n",
              "    }\n",
              "\n",
              "    .colab-df-convert:hover {\n",
              "      background-color: #E2EBFA;\n",
              "      box-shadow: 0px 1px 2px rgba(60, 64, 67, 0.3), 0px 1px 3px 1px rgba(60, 64, 67, 0.15);\n",
              "      fill: #174EA6;\n",
              "    }\n",
              "\n",
              "    [theme=dark] .colab-df-convert {\n",
              "      background-color: #3B4455;\n",
              "      fill: #D2E3FC;\n",
              "    }\n",
              "\n",
              "    [theme=dark] .colab-df-convert:hover {\n",
              "      background-color: #434B5C;\n",
              "      box-shadow: 0px 1px 3px 1px rgba(0, 0, 0, 0.15);\n",
              "      filter: drop-shadow(0px 1px 2px rgba(0, 0, 0, 0.3));\n",
              "      fill: #FFFFFF;\n",
              "    }\n",
              "  </style>\n",
              "\n",
              "      <script>\n",
              "        const buttonEl =\n",
              "          document.querySelector('#df-1cec94d1-2836-499f-87a4-48670fd2c7ba button.colab-df-convert');\n",
              "        buttonEl.style.display =\n",
              "          google.colab.kernel.accessAllowed ? 'block' : 'none';\n",
              "\n",
              "        async function convertToInteractive(key) {\n",
              "          const element = document.querySelector('#df-1cec94d1-2836-499f-87a4-48670fd2c7ba');\n",
              "          const dataTable =\n",
              "            await google.colab.kernel.invokeFunction('convertToInteractive',\n",
              "                                                     [key], {});\n",
              "          if (!dataTable) return;\n",
              "\n",
              "          const docLinkHtml = 'Like what you see? Visit the ' +\n",
              "            '<a target=\"_blank\" href=https://colab.research.google.com/notebooks/data_table.ipynb>data table notebook</a>'\n",
              "            + ' to learn more about interactive tables.';\n",
              "          element.innerHTML = '';\n",
              "          dataTable['output_type'] = 'display_data';\n",
              "          await google.colab.output.renderOutput(dataTable, element);\n",
              "          const docLink = document.createElement('div');\n",
              "          docLink.innerHTML = docLinkHtml;\n",
              "          element.appendChild(docLink);\n",
              "        }\n",
              "      </script>\n",
              "    </div>\n",
              "  </div>\n",
              "  "
            ]
          },
          "metadata": {},
          "execution_count": 93
        }
      ],
      "source": [
        "# aprioriでsupportが0.2より高い特徴とその組み合わせを抽出\n",
        "restaurantRule = apriori(restaurantDfDum, min_support=0.2, max_len=4, use_colnames=True)\n",
        "\n",
        "# confidenceが0.6よりも高い組み合わせを抽出\n",
        "restaurantRule = association_rules(restaurantRule, metric='confidence', min_threshold=0.6)\n",
        "\n",
        "# 帰結部が\"好き_1\"(好き)である組み合わせを抽出\n",
        "restaurantRule[restaurantRule['consequents']=={'好き_1'}]"
      ]
    },
    {
      "cell_type": "code",
      "execution_count": 92,
      "metadata": {
        "id": "QDWC9Eax6Ik1",
        "colab": {
          "base_uri": "https://localhost:8080/",
          "height": 143
        },
        "outputId": "41db905f-090a-45d3-8d28-5cfb50d8f8ce"
      },
      "outputs": [
        {
          "output_type": "execute_result",
          "data": {
            "text/plain": [
              "   antecedents consequents  antecedent support  consequent support   support  \\\n",
              "25     (味濃い_4)      (好き_0)            0.346154            0.461538  0.192308   \n",
              "27     (見た目_2)      (好き_0)            0.192308            0.461538  0.153846   \n",
              "29     (見た目_3)      (好き_0)            0.307692            0.461538  0.153846   \n",
              "\n",
              "    confidence      lift  leverage  conviction  \n",
              "25    0.555556  1.203704  0.032544    1.211538  \n",
              "27    0.800000  1.733333  0.065089    2.692308  \n",
              "29    0.500000  1.083333  0.011834    1.076923  "
            ],
            "text/html": [
              "\n",
              "  <div id=\"df-762d971b-e720-49d3-bd03-4312ed62a2d2\">\n",
              "    <div class=\"colab-df-container\">\n",
              "      <div>\n",
              "<style scoped>\n",
              "    .dataframe tbody tr th:only-of-type {\n",
              "        vertical-align: middle;\n",
              "    }\n",
              "\n",
              "    .dataframe tbody tr th {\n",
              "        vertical-align: top;\n",
              "    }\n",
              "\n",
              "    .dataframe thead th {\n",
              "        text-align: right;\n",
              "    }\n",
              "</style>\n",
              "<table border=\"1\" class=\"dataframe\">\n",
              "  <thead>\n",
              "    <tr style=\"text-align: right;\">\n",
              "      <th></th>\n",
              "      <th>antecedents</th>\n",
              "      <th>consequents</th>\n",
              "      <th>antecedent support</th>\n",
              "      <th>consequent support</th>\n",
              "      <th>support</th>\n",
              "      <th>confidence</th>\n",
              "      <th>lift</th>\n",
              "      <th>leverage</th>\n",
              "      <th>conviction</th>\n",
              "    </tr>\n",
              "  </thead>\n",
              "  <tbody>\n",
              "    <tr>\n",
              "      <th>25</th>\n",
              "      <td>(味濃い_4)</td>\n",
              "      <td>(好き_0)</td>\n",
              "      <td>0.346154</td>\n",
              "      <td>0.461538</td>\n",
              "      <td>0.192308</td>\n",
              "      <td>0.555556</td>\n",
              "      <td>1.203704</td>\n",
              "      <td>0.032544</td>\n",
              "      <td>1.211538</td>\n",
              "    </tr>\n",
              "    <tr>\n",
              "      <th>27</th>\n",
              "      <td>(見た目_2)</td>\n",
              "      <td>(好き_0)</td>\n",
              "      <td>0.192308</td>\n",
              "      <td>0.461538</td>\n",
              "      <td>0.153846</td>\n",
              "      <td>0.800000</td>\n",
              "      <td>1.733333</td>\n",
              "      <td>0.065089</td>\n",
              "      <td>2.692308</td>\n",
              "    </tr>\n",
              "    <tr>\n",
              "      <th>29</th>\n",
              "      <td>(見た目_3)</td>\n",
              "      <td>(好き_0)</td>\n",
              "      <td>0.307692</td>\n",
              "      <td>0.461538</td>\n",
              "      <td>0.153846</td>\n",
              "      <td>0.500000</td>\n",
              "      <td>1.083333</td>\n",
              "      <td>0.011834</td>\n",
              "      <td>1.076923</td>\n",
              "    </tr>\n",
              "  </tbody>\n",
              "</table>\n",
              "</div>\n",
              "      <button class=\"colab-df-convert\" onclick=\"convertToInteractive('df-762d971b-e720-49d3-bd03-4312ed62a2d2')\"\n",
              "              title=\"Convert this dataframe to an interactive table.\"\n",
              "              style=\"display:none;\">\n",
              "        \n",
              "  <svg xmlns=\"http://www.w3.org/2000/svg\" height=\"24px\"viewBox=\"0 0 24 24\"\n",
              "       width=\"24px\">\n",
              "    <path d=\"M0 0h24v24H0V0z\" fill=\"none\"/>\n",
              "    <path d=\"M18.56 5.44l.94 2.06.94-2.06 2.06-.94-2.06-.94-.94-2.06-.94 2.06-2.06.94zm-11 1L8.5 8.5l.94-2.06 2.06-.94-2.06-.94L8.5 2.5l-.94 2.06-2.06.94zm10 10l.94 2.06.94-2.06 2.06-.94-2.06-.94-.94-2.06-.94 2.06-2.06.94z\"/><path d=\"M17.41 7.96l-1.37-1.37c-.4-.4-.92-.59-1.43-.59-.52 0-1.04.2-1.43.59L10.3 9.45l-7.72 7.72c-.78.78-.78 2.05 0 2.83L4 21.41c.39.39.9.59 1.41.59.51 0 1.02-.2 1.41-.59l7.78-7.78 2.81-2.81c.8-.78.8-2.07 0-2.86zM5.41 20L4 18.59l7.72-7.72 1.47 1.35L5.41 20z\"/>\n",
              "  </svg>\n",
              "      </button>\n",
              "      \n",
              "  <style>\n",
              "    .colab-df-container {\n",
              "      display:flex;\n",
              "      flex-wrap:wrap;\n",
              "      gap: 12px;\n",
              "    }\n",
              "\n",
              "    .colab-df-convert {\n",
              "      background-color: #E8F0FE;\n",
              "      border: none;\n",
              "      border-radius: 50%;\n",
              "      cursor: pointer;\n",
              "      display: none;\n",
              "      fill: #1967D2;\n",
              "      height: 32px;\n",
              "      padding: 0 0 0 0;\n",
              "      width: 32px;\n",
              "    }\n",
              "\n",
              "    .colab-df-convert:hover {\n",
              "      background-color: #E2EBFA;\n",
              "      box-shadow: 0px 1px 2px rgba(60, 64, 67, 0.3), 0px 1px 3px 1px rgba(60, 64, 67, 0.15);\n",
              "      fill: #174EA6;\n",
              "    }\n",
              "\n",
              "    [theme=dark] .colab-df-convert {\n",
              "      background-color: #3B4455;\n",
              "      fill: #D2E3FC;\n",
              "    }\n",
              "\n",
              "    [theme=dark] .colab-df-convert:hover {\n",
              "      background-color: #434B5C;\n",
              "      box-shadow: 0px 1px 3px 1px rgba(0, 0, 0, 0.15);\n",
              "      filter: drop-shadow(0px 1px 2px rgba(0, 0, 0, 0.3));\n",
              "      fill: #FFFFFF;\n",
              "    }\n",
              "  </style>\n",
              "\n",
              "      <script>\n",
              "        const buttonEl =\n",
              "          document.querySelector('#df-762d971b-e720-49d3-bd03-4312ed62a2d2 button.colab-df-convert');\n",
              "        buttonEl.style.display =\n",
              "          google.colab.kernel.accessAllowed ? 'block' : 'none';\n",
              "\n",
              "        async function convertToInteractive(key) {\n",
              "          const element = document.querySelector('#df-762d971b-e720-49d3-bd03-4312ed62a2d2');\n",
              "          const dataTable =\n",
              "            await google.colab.kernel.invokeFunction('convertToInteractive',\n",
              "                                                     [key], {});\n",
              "          if (!dataTable) return;\n",
              "\n",
              "          const docLinkHtml = 'Like what you see? Visit the ' +\n",
              "            '<a target=\"_blank\" href=https://colab.research.google.com/notebooks/data_table.ipynb>data table notebook</a>'\n",
              "            + ' to learn more about interactive tables.';\n",
              "          element.innerHTML = '';\n",
              "          dataTable['output_type'] = 'display_data';\n",
              "          await google.colab.output.renderOutput(dataTable, element);\n",
              "          const docLink = document.createElement('div');\n",
              "          docLink.innerHTML = docLinkHtml;\n",
              "          element.appendChild(docLink);\n",
              "        }\n",
              "      </script>\n",
              "    </div>\n",
              "  </div>\n",
              "  "
            ]
          },
          "metadata": {},
          "execution_count": 92
        }
      ],
      "source": [
        "# aprioriでsupportが0.15より高い特徴とその組み合わせを選出\n",
        "restaurantRule = apriori(restaurantDfDum, min_support=0.15,max_len=3,use_colnames=True)\n",
        "\n",
        "# liftが1よりも高い組み合わせを選出\n",
        "restaurantRule = association_rules(restaurantRule, metric='lift',min_threshold=1)\n",
        "\n",
        "# 帰結部が\"好き_0\"(好きではない)の組み合わせを抽出\n",
        "restaurantRule[restaurantRule['consequents']=={'好き_0'}]"
      ]
    }
  ],
  "metadata": {
    "colab": {
      "provenance": []
    },
    "kernelspec": {
      "display_name": "Python 3",
      "name": "python3"
    },
    "language_info": {
      "name": "python"
    }
  },
  "nbformat": 4,
  "nbformat_minor": 0
}